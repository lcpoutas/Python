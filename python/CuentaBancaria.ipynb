{
 "cells": [
  {
   "cell_type": "code",
   "execution_count": 47,
   "id": "08541408",
   "metadata": {},
   "outputs": [],
   "source": [
    "import logging\n",
    "\n",
    "logging.basicConfig(level=logging.ERROR)\n",
    "logger = logging.getLogger(__name__)\n",
    "\n",
    "class CuentaBancaria:\n",
    "    \n",
    "    def __init__(self, saldo=0):\n",
    "        \"\"\"Inicializa la cuenta con un saldo, que por defecto es 0.\"\"\"\n",
    "        self.__saldo = saldo\n",
    "        \n",
    "    @property\n",
    "    def saldo(self):\n",
    "        \"\"\"Devuelve el saldo actual de la cuenta para consultas seguras.\"\"\"\n",
    "        return self.__saldo\n",
    "    \n",
    "    @saldo.setter\n",
    "    def saldo(self, saldo):\n",
    "        self.__saldo=saldo\n",
    "    \n",
    "    def ingresar(self, amount):\n",
    "        \"\"\"Permite ingresar dinero en la cuenta. La cantidad debe ser positiva.\"\"\"\n",
    "        if amount < 0:\n",
    "            logger.error(f\"Intento fallido de ingreso: {amount} euros. La cantidad no puede ser negativa.\")\n",
    "            raise ValueError(\"No puedes introducir valores negativos\")\n",
    "        else:\n",
    "            self.__saldo += amount\n",
    "            logger.info(f\"Ha ingresado {amount} euros. Saldo actual: {self.__saldo} euros\")\n",
    "        \n",
    "    def retirar(self, amount):\n",
    "        \"\"\"Permite retirar dinero de la cuenta si la cantidad es positiva y hay fondos suficientes.\"\"\"\n",
    "        if amount < 0:\n",
    "            logger.error(f\"Intento fallido de retirada: {amount} euros. La cantidad no puede ser negativa.\")\n",
    "            raise ValueError(\"No puedes introducir valores negativos\")\n",
    "        elif self.__saldo < 0:\n",
    "            logger.error(\"Intento de retirada con saldo negativo.\")\n",
    "            raise ValueError(\"No puedes sacar dinero, tu saldo está a cero\")\n",
    "        elif amount > self.__saldo:\n",
    "            logger.error(f\"Intento fallido de retirada: {amount} euros. No hay suficiente saldo.\")\n",
    "            raise ValueError(\"No puedes sacar más dinero que el disponible en tu saldo\")\n",
    "        else:\n",
    "            self.__saldo -= amount\n",
    "            logger.info(f\"Ha retirado {amount} euros. Saldo actual: {self.__saldo} euros\")"
   ]
  },
  {
   "cell_type": "code",
   "execution_count": 54,
   "id": "cf69dab0",
   "metadata": {},
   "outputs": [
    {
     "name": "stdout",
     "output_type": "stream",
     "text": [
      "100\n"
     ]
    }
   ],
   "source": [
    "cuenta = CuentaBancaria(100)\n",
    "print(cuenta.saldo)"
   ]
  },
  {
   "cell_type": "code",
   "execution_count": 55,
   "id": "8663ead1",
   "metadata": {},
   "outputs": [
    {
     "name": "stdout",
     "output_type": "stream",
     "text": [
      "150\n"
     ]
    }
   ],
   "source": [
    "cuenta.ingresar(50)\n",
    "print(cuenta.saldo)"
   ]
  },
  {
   "cell_type": "code",
   "execution_count": 56,
   "id": "98a4a4db",
   "metadata": {},
   "outputs": [
    {
     "name": "stdout",
     "output_type": "stream",
     "text": [
      "130\n"
     ]
    }
   ],
   "source": [
    "cuenta.retirar(20)\n",
    "print(cuenta.saldo)"
   ]
  },
  {
   "cell_type": "code",
   "execution_count": 57,
   "id": "b0fa9ad6",
   "metadata": {},
   "outputs": [
    {
     "name": "stderr",
     "output_type": "stream",
     "text": [
      "ERROR:__main__:Intento fallido de retirada: 200 euros. No hay suficiente saldo.\n"
     ]
    },
    {
     "ename": "ValueError",
     "evalue": "No puedes sacar más dinero que el disponible en tu saldo",
     "output_type": "error",
     "traceback": [
      "\u001b[0;31m---------------------------------------------------------------------------\u001b[0m",
      "\u001b[0;31mValueError\u001b[0m                                Traceback (most recent call last)",
      "Cell \u001b[0;32mIn[57], line 1\u001b[0m\n\u001b[0;32m----> 1\u001b[0m cuenta\u001b[38;5;241m.\u001b[39mretirar(\u001b[38;5;241m200\u001b[39m)\n",
      "Cell \u001b[0;32mIn[47], line 31\u001b[0m, in \u001b[0;36mCuentaBancaria.retirar\u001b[0;34m(self, amount)\u001b[0m\n\u001b[1;32m     29\u001b[0m \u001b[38;5;28;01melif\u001b[39;00m amount \u001b[38;5;241m>\u001b[39m \u001b[38;5;28mself\u001b[39m\u001b[38;5;241m.\u001b[39m__saldo:\n\u001b[1;32m     30\u001b[0m     logger\u001b[38;5;241m.\u001b[39merror(\u001b[38;5;124mf\u001b[39m\u001b[38;5;124m\"\u001b[39m\u001b[38;5;124mIntento fallido de retirada: \u001b[39m\u001b[38;5;132;01m{\u001b[39;00mamount\u001b[38;5;132;01m}\u001b[39;00m\u001b[38;5;124m euros. No hay suficiente saldo.\u001b[39m\u001b[38;5;124m\"\u001b[39m)\n\u001b[0;32m---> 31\u001b[0m     \u001b[38;5;28;01mraise\u001b[39;00m \u001b[38;5;167;01mValueError\u001b[39;00m(\u001b[38;5;124m\"\u001b[39m\u001b[38;5;124mNo puedes sacar más dinero que el disponible en tu saldo\u001b[39m\u001b[38;5;124m\"\u001b[39m)\n\u001b[1;32m     32\u001b[0m \u001b[38;5;28;01melse\u001b[39;00m:\n\u001b[1;32m     33\u001b[0m     \u001b[38;5;28mself\u001b[39m\u001b[38;5;241m.\u001b[39m__saldo \u001b[38;5;241m-\u001b[39m\u001b[38;5;241m=\u001b[39m amount\n",
      "\u001b[0;31mValueError\u001b[0m: No puedes sacar más dinero que el disponible en tu saldo"
     ]
    }
   ],
   "source": [
    "cuenta.retirar(200)"
   ]
  },
  {
   "cell_type": "code",
   "execution_count": null,
   "id": "ee7efc2f",
   "metadata": {},
   "outputs": [],
   "source": []
  }
 ],
 "metadata": {
  "kernelspec": {
   "display_name": "Python 3 (ipykernel)",
   "language": "python",
   "name": "python3"
  },
  "language_info": {
   "codemirror_mode": {
    "name": "ipython",
    "version": 3
   },
   "file_extension": ".py",
   "mimetype": "text/x-python",
   "name": "python",
   "nbconvert_exporter": "python",
   "pygments_lexer": "ipython3",
   "version": "3.11.4"
  }
 },
 "nbformat": 4,
 "nbformat_minor": 5
}
