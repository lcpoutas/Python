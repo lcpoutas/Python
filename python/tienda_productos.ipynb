{
 "cells": [
  {
   "cell_type": "code",
   "execution_count": 46,
   "id": "30009563",
   "metadata": {},
   "outputs": [],
   "source": [
    "\"\"\"\n",
    "Tienda de Productos:\n",
    "\n",
    "    Crea una clase Producto con métodos para aplicar_descuento() y \n",
    "    calcular_precio().\n",
    "\n",
    "    Extiende esta clase en ProductoAlimenticio, ProductoElectronico, etc., \n",
    "    modificando el método de descuento según el tipo de producto.\n",
    "\n",
    "\"\"\"\n",
    "\n",
    "# importar modulos necesarios\n",
    "from abc import ABC, abstractmethod\n",
    "import logging\n",
    "\n",
    "#configurar el logging\n",
    "logging.basicConfig(level=logging.ERROR)\n",
    "logger=logging.getLogger(__name__)\n",
    "\n",
    "class Producto(ABC):\n",
    "    \n",
    "    def __init__(self, producto, precioBase):\n",
    "        if not isinstance(producto,str):\n",
    "            logger.error(\"Error al establecer el producto\")\n",
    "            raise ValueError(\"EL producto debe ser un string\")\n",
    "        self._producto=producto\n",
    "        print(\"El producto se ha establecido correctamente\")\n",
    "\n",
    "        if not isinstance(precioBase,(int, float)) or precioBase<0:\n",
    "            logger.error(\"Error al establecer el precio\")\n",
    "            raise ValueError(\"EL precio debe ser un número positivo\")\n",
    "        self._precioBase = precioBase\n",
    "        print(\"El precio del producto se ha establecido correctamente\")\n",
    "            \n",
    "        self.descuento = 0\n",
    "        self.precioFinal= None\n",
    "        \n",
    "    @property\n",
    "    def producto(self):\n",
    "        return self._producto\n",
    "        \n",
    "    @producto.setter\n",
    "    def producto(self, producto):\n",
    "        if not isinstance(producto,str):\n",
    "            logger.error(\"Error al establecer el producto\")\n",
    "            raise ValueError(\"EL producto debe ser un string\")\n",
    "        self._producto=producto\n",
    "        print(\"El producto se ha establecido correctamente\")\n",
    "            \n",
    "    @property\n",
    "    def precioBase(self):\n",
    "        return self._precioBase\n",
    "        \n",
    "    @precioBase.setter\n",
    "    def precioBase(self, precioBase):\n",
    "        if not isinstance(precioBase,(int, float)) and precioBase>0:\n",
    "            self._precioBase=precioBase\n",
    "            print(\"El precio del producto se ha establecido correctamente\")\n",
    "        else:\n",
    "            logger.error(\"Error al establecer el precio\")\n",
    "            raise ValueError(\"EL precio debe ser un número positivo\")\n",
    "        \n",
    "    @abstractmethod\n",
    "    def aplicar_descuento(self):\n",
    "        #calcula el descuento dependiendo del tipo de producto\n",
    "        pass\n",
    "    \n",
    "    def calcular_precio(self):\n",
    "\n",
    "        self.precioFinal = self._precioBase - self.descuento\n",
    "        print(f\"El precio final es: {self.precioFinal} euros\")\n",
    "        return self.precioFinal\n",
    "        \n",
    "class ProductoAlimenticio(Producto):\n",
    "    \n",
    "    def aplicar_descuento(self):\n",
    "        # Apply a 5% discount for food products\n",
    "        self.descuento = 0.05 * self._precioBase\n",
    "        print(f\"El descuento aplicado es de: {round(self.descuento, 2)} euros\")\n",
    "        \n",
    "class ProductoElectronico(Producto):\n",
    "    \n",
    "    def aplicar_descuento(self):\n",
    "        # Apply a 15% discount for food products\n",
    "        self.descuento = 0.15 * self._precioBase\n",
    "        print(f\"El descuento aplicado es de: {round(self.descuento, 2)} euros\")    "
   ]
  },
  {
   "cell_type": "code",
   "execution_count": 47,
   "id": "51d47b46",
   "metadata": {},
   "outputs": [
    {
     "name": "stdout",
     "output_type": "stream",
     "text": [
      "El producto se ha establecido correctamente\n",
      "El precio del producto se ha establecido correctamente\n",
      "El descuento aplicado es de: 0.6 euros\n",
      "El precio final es: 11.4 euros\n"
     ]
    }
   ],
   "source": [
    "    manzana = ProductoAlimenticio(\"manzana\", 12)\n",
    "    manzana.aplicar_descuento()\n",
    "    precio_final_manzana = manzana.calcular_precio()"
   ]
  },
  {
   "cell_type": "code",
   "execution_count": null,
   "id": "9e7b0b2d",
   "metadata": {},
   "outputs": [],
   "source": [
    "def aplicar_descuento(self, item):\n",
    "    if item"
   ]
  }
 ],
 "metadata": {
  "kernelspec": {
   "display_name": "Python 3 (ipykernel)",
   "language": "python",
   "name": "python3"
  },
  "language_info": {
   "codemirror_mode": {
    "name": "ipython",
    "version": 3
   },
   "file_extension": ".py",
   "mimetype": "text/x-python",
   "name": "python",
   "nbconvert_exporter": "python",
   "pygments_lexer": "ipython3",
   "version": "3.11.4"
  }
 },
 "nbformat": 4,
 "nbformat_minor": 5
}
