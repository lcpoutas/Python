{
 "cells": [
  {
   "cell_type": "code",
   "execution_count": 63,
   "id": "11efcc1d",
   "metadata": {},
   "outputs": [],
   "source": [
    "\"\"\"\n",
    "    Diseña una clase Notificacion y varias subclases como Email, SMS, y \n",
    "    NotificacionApp.\n",
    "    \n",
    "    Cada subclase debe tener un método enviar() que funcione de manera \n",
    "    diferente dependiendo del tipo de notificación\n",
    "\"\"\"\n",
    "\n",
    "from abc import ABC, abstractmethod\n",
    "\n",
    "# configuramos el sistema de notificación de errores\n",
    "import logging\n",
    "\n",
    "logging.basicConfig(level=logging.INFO)\n",
    "logger = logging.getLogger(__name__)\n",
    "\n",
    "class Notificacion(ABC):\n",
    "    \n",
    "    def __init__(self, mensaje):\n",
    "        self.__tipo = None # se define en la subclase\n",
    "        self.mensaje=mensaje\n",
    "        \n",
    "    @property\n",
    "    def tipo(self):\n",
    "        return self.__tipo\n",
    "    \n",
    "    @tipo.setter\n",
    "    def tipo(self, tipo):\n",
    "        if tipo in [\"sms\", \"mail\", \"app\"]:\n",
    "            self._tipo=tipo\n",
    "        else:\n",
    "            logger.error(\"El tipo de notificación no es valido\")\n",
    "            raise ValueError(\"El tipo de notificación no es valido\")\n",
    "            \n",
    "    @abstractmethod\n",
    "    def enviar(self):\n",
    "        # Método abstracto para enviar notificaciones \n",
    "        # que debe ser implementado por cada subclase\n",
    "        pass\n",
    "    \n",
    "class Sms(Notificacion):\n",
    "    \n",
    "    def __init__(self, mensaje):\n",
    "        super().__init__(mensaje)\n",
    "        self.tipo=\"sms\"\n",
    "    \n",
    "    def enviar(self):\n",
    "        logger.info(f\"El mensaje se ha enviado por SMS correctamente\")\n",
    "        print(self.mensaje)\n",
    "        \n",
    "class Email(Notificacion):\n",
    "    \n",
    "    def __init__(self, mensaje):\n",
    "        super().__init__(mensaje)\n",
    "        self.tipo=\"mail\"\n",
    "    \n",
    "    def enviar(self):\n",
    "        logger.info(f\"El mensaje se ha enviado por Email correctamente\")\n",
    "        print(self.mensaje)\n",
    "        \n",
    "class App(Notificacion):\n",
    "    \n",
    "    def __init__(self, mensaje):\n",
    "        super().__init__(mensaje)\n",
    "        self.tipo=\"app\"\n",
    "    \n",
    "    def enviar(self):\n",
    "        logger.info(f\"El mensaje se ha enviado por App correctamente\")\n",
    "        print(self.mensaje)"
   ]
  },
  {
   "cell_type": "code",
   "execution_count": 64,
   "id": "5ab06f3e",
   "metadata": {},
   "outputs": [],
   "source": [
    "mensaje1 = Sms(\"Hola. como estas\")"
   ]
  },
  {
   "cell_type": "code",
   "execution_count": 65,
   "id": "611c23c5",
   "metadata": {},
   "outputs": [
    {
     "name": "stdout",
     "output_type": "stream",
     "text": [
      "Hola. como estas\n"
     ]
    }
   ],
   "source": [
    "mensaje1.enviar()"
   ]
  },
  {
   "cell_type": "code",
   "execution_count": null,
   "id": "5b4b864b",
   "metadata": {},
   "outputs": [],
   "source": []
  }
 ],
 "metadata": {
  "kernelspec": {
   "display_name": "Python 3 (ipykernel)",
   "language": "python",
   "name": "python3"
  },
  "language_info": {
   "codemirror_mode": {
    "name": "ipython",
    "version": 3
   },
   "file_extension": ".py",
   "mimetype": "text/x-python",
   "name": "python",
   "nbconvert_exporter": "python",
   "pygments_lexer": "ipython3",
   "version": "3.11.4"
  }
 },
 "nbformat": 4,
 "nbformat_minor": 5
}
